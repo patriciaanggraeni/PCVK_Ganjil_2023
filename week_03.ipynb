{
  "nbformat": 4,
  "nbformat_minor": 0,
  "metadata": {
    "colab": {
      "provenance": [],
      "mount_file_id": "1EAUXk8470rqDG1ydA4hFicbwQmKvwAzZ",
      "authorship_tag": "ABX9TyM0wuKrV7iHjfQCu6+0vBJ0",
      "include_colab_link": true
    },
    "kernelspec": {
      "name": "python3",
      "display_name": "Python 3"
    },
    "language_info": {
      "name": "python"
    }
  },
  "cells": [
    {
      "cell_type": "markdown",
      "metadata": {
        "id": "view-in-github",
        "colab_type": "text"
      },
      "source": [
        "<a href=\"https://colab.research.google.com/github/patriciaanggraeni/PCVK_Ganjil_2023/blob/main/week_03.ipynb\" target=\"_parent\"><img src=\"https://colab.research.google.com/assets/colab-badge.svg\" alt=\"Open In Colab\"/></a>"
      ]
    },
    {
      "cell_type": "code",
      "execution_count": null,
      "metadata": {
        "id": "4r27S0zut_f_"
      },
      "outputs": [],
      "source": []
    }
  ]
}