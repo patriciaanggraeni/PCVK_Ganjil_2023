{
  "nbformat": 4,
  "nbformat_minor": 0,
  "metadata": {
    "colab": {
      "provenance": [],
      "authorship_tag": "ABX9TyOx6OVxTbAHvL9h3M0WzNQK",
      "include_colab_link": true
    },
    "kernelspec": {
      "name": "python3",
      "display_name": "Python 3"
    },
    "language_info": {
      "name": "python"
    }
  },
  "cells": [
    {
      "cell_type": "markdown",
      "metadata": {
        "id": "view-in-github",
        "colab_type": "text"
      },
      "source": [
        "<a href=\"https://colab.research.google.com/github/patriciaanggraeni/PCVK_Ganjil_2023/blob/main/week_10.ipynb\" target=\"_parent\"><img src=\"https://colab.research.google.com/assets/colab-badge.svg\" alt=\"Open In Colab\"/></a>"
      ]
    },
    {
      "cell_type": "code",
      "execution_count": 5,
      "metadata": {
        "id": "OSo80ZsJZ78G"
      },
      "outputs": [],
      "source": [
        "import cv2 as cv\n",
        "import numpy as np\n",
        "import pytesseract\n",
        "import pandas as pd\n",
        "import matplotlib.pyplot as plt\n",
        "\n",
        "from PIL import Image\n",
        "from google.colab import drive"
      ]
    },
    {
      "cell_type": "code",
      "source": [
        "drive.mount('/content/drive/')"
      ],
      "metadata": {
        "colab": {
          "base_uri": "https://localhost:8080/"
        },
        "id": "Mh3Tz-Z8a0TM",
        "outputId": "1c11d16b-37e5-4084-ed04-7cd69a7911cb"
      },
      "execution_count": 4,
      "outputs": [
        {
          "output_type": "stream",
          "name": "stdout",
          "text": [
            "Mounted at /content/drive/\n"
          ]
        }
      ]
    },
    {
      "cell_type": "code",
      "source": [
        "# memuat file gambar\n",
        "image_file = ('/content/drive/MyDrive/PCVK/Images/gradient.jpg')\n",
        "\n",
        "# membaca gambar\n",
        "image = cv.imread(image_file)\n",
        "\n",
        "# melakukan proses thresholding\n",
        "thresh1 = cv.imread(image_file)\n",
        "thresh2 = cv.imread(image_file)\n",
        "thresh3 = cv.imread(image_file)\n",
        "thresh4 = cv.imread(image_file)\n",
        "thresh5 = cv.imread(image_file)\n",
        "\n",
        "# menetapkan nilai treshold\n",
        "thresh = 170\n",
        "\n",
        "# melakukan pengecekan, jika nilai pixel di gambar lebih besar dari nilai threshold\n",
        "# maka nilai dari thresh1 bernilai 1 dan lainnya bernilai 0\n",
        "\n",
        "thresh1[image>thresh] = 255 # jika keadaan benar, akan bernilai 1 (putih)\n",
        "thresh2[image<=thresh] ="
      ],
      "metadata": {
        "id": "_XrdeWU4ayFn"
      },
      "execution_count": null,
      "outputs": []
    }
  ]
}